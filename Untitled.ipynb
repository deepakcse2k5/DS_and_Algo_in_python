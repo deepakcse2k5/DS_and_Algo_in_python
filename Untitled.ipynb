{
 "cells": [
  {
   "cell_type": "code",
   "execution_count": 2,
   "id": "03fb35a0-48d4-4475-b4a6-9760f63f1c27",
   "metadata": {},
   "outputs": [],
   "source": [
    "input = [1,5,12,2,11,5]\n",
    "k = 3"
   ]
  },
  {
   "cell_type": "code",
   "execution_count": null,
   "id": "d63e2601-6033-444d-ba9a-e59c129c04a2",
   "metadata": {},
   "outputs": [],
   "source": [
    "def find_kth_smallest_number(input,k):\n",
    "    heap = []"
   ]
  },
  {
   "cell_type": "code",
   "execution_count": null,
   "id": "6a3db616-ce1a-4825-babd-fed63c2b2f27",
   "metadata": {},
   "outputs": [],
   "source": []
  },
  {
   "cell_type": "code",
   "execution_count": null,
   "id": "5ee31dfe-caf8-492d-a80e-0a045a057df8",
   "metadata": {},
   "outputs": [],
   "source": []
  },
  {
   "cell_type": "code",
   "execution_count": null,
   "id": "86e42046-0cb4-4c25-ad3d-fcc2e5aff17d",
   "metadata": {},
   "outputs": [],
   "source": []
  },
  {
   "cell_type": "code",
   "execution_count": null,
   "id": "7a5b27ef-0db2-4da9-9487-68bbb66e889b",
   "metadata": {},
   "outputs": [],
   "source": []
  }
 ],
 "metadata": {
  "kernelspec": {
   "display_name": "Python 3 (ipykernel)",
   "language": "python",
   "name": "python3"
  },
  "language_info": {
   "codemirror_mode": {
    "name": "ipython",
    "version": 3
   },
   "file_extension": ".py",
   "mimetype": "text/x-python",
   "name": "python",
   "nbconvert_exporter": "python",
   "pygments_lexer": "ipython3",
   "version": "3.9.6"
  }
 },
 "nbformat": 4,
 "nbformat_minor": 5
}

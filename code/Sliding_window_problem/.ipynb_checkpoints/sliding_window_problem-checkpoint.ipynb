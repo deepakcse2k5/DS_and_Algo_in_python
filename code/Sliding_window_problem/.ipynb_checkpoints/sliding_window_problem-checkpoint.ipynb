{
 "cells": [
  {
   "cell_type": "markdown",
   "metadata": {},
   "source": [
    "### Longest Substring with Same Letters after Replacement\n",
    "Given a string with lowercase letters only, if you are allowed to replace no more than ‘k’ letters with any letter, find the length of the longest substring having the same letters after replacement.\n",
    "\n",
    "Example 1:\n",
    "\n",
    "Input: String=\"aabccbb\", k=2\n",
    "Output: 5\n",
    "Explanation: Replace the two 'c' with 'b' to have a longest repeating substring \"bbbbb\".\n",
    "Example 2:\n",
    "\n",
    "Input: String=\"abbcb\", k=1\n",
    "Output: 4\n",
    "Explanation: Replace the 'c' with 'b' to have a longest repeating substring \"bbbb\".\n",
    "Example 3:\n",
    "\n",
    "Input: String=\"abccde\", k=1\n",
    "Output: 3\n",
    "Explanation: Replace the 'b' or 'd' with 'c' to have the longest repeating substring \"ccc\".\n",
    "\n",
    "\n",
    "Solution:- \n",
    "This problem follows the Sliding Window pattern, and we can use a similar dynamic sliding window strategy as discussed in No-repeat Substring. We can use a HashMap to count the frequency of each letter.\n",
    "\n",
    "We will iterate through the string to add one letter at a time in the window.\n",
    "We will also keep track of the count of the maximum repeating letter in any window (let’s call it maxRepeatLetterCount).\n",
    "So, at any time, we know that we do have a window with one letter repeating maxRepeatLetterCount times; this means we should try to replace the remaining letters.\n",
    "If the remaining letters are less than or equal to ‘k’, we can replace them all.\n",
    "\n",
    "If we have more than ‘k’ remaining letters, we should shrink the window as we cannot replace more than ‘k’ letters.\n",
    "\n",
    "While shrinking the window, we don’t need to update maxRepeatLetterCount (hence, it represents the maximum repeating count of ANY letter for ANY window). Why don’t we need to update this count when we shrink the window? Since we have to replace all the remaining letters to get the longest substring having the same letter in any window, we can’t get a better answer from any other window even though all occurrences of the letter with frequency maxRepeatLetterCount is not in the current window."
   ]
  },
  {
   "cell_type": "code",
   "execution_count": 7,
   "metadata": {},
   "outputs": [],
   "source": [
    "def length_of_longest_substring(str,k):\n",
    "    start =0\n",
    "    max_length = 0\n",
    "    max_repeated_count =0\n",
    "    frequency_map ={}\n",
    "    for end in range(len(str)):\n",
    "        right_char = str[end]\n",
    "        if right_char not in frequency_map:\n",
    "            frequency_map[right_char]=0\n",
    "        frequency_map[right_char]+=1\n",
    "        max_repeated_count = max(max_repeated_count,frequency_map[right_char])\n",
    "        if (end-start+1-max_repeated_count)>k:\n",
    "            left_char = str[start]\n",
    "            frequency_map[left_char]-=1\n",
    "            start+=1\n",
    "        max_length = max(max_length,end-start+1)\n",
    "        \n",
    "    return max_length"
   ]
  },
  {
   "cell_type": "code",
   "execution_count": 8,
   "metadata": {},
   "outputs": [
    {
     "name": "stdout",
     "output_type": "stream",
     "text": [
      "4\n"
     ]
    }
   ],
   "source": [
    "print(length_of_longest_substring(\"abbcb\",1))"
   ]
  },
  {
   "cell_type": "code",
   "execution_count": null,
   "metadata": {},
   "outputs": [],
   "source": []
  },
  {
   "cell_type": "code",
   "execution_count": null,
   "metadata": {},
   "outputs": [],
   "source": []
  },
  {
   "cell_type": "code",
   "execution_count": null,
   "metadata": {},
   "outputs": [],
   "source": []
  },
  {
   "cell_type": "code",
   "execution_count": null,
   "metadata": {},
   "outputs": [],
   "source": []
  },
  {
   "cell_type": "code",
   "execution_count": null,
   "metadata": {},
   "outputs": [],
   "source": []
  }
 ],
 "metadata": {
  "kernelspec": {
   "display_name": "Python 3",
   "language": "python",
   "name": "python3"
  },
  "language_info": {
   "codemirror_mode": {
    "name": "ipython",
    "version": 3
   },
   "file_extension": ".py",
   "mimetype": "text/x-python",
   "name": "python",
   "nbconvert_exporter": "python",
   "pygments_lexer": "ipython3",
   "version": "3.8.8"
  }
 },
 "nbformat": 4,
 "nbformat_minor": 2
}
